{
 "cells": [
  {
   "cell_type": "code",
   "execution_count": 1,
   "metadata": {},
   "outputs": [
    {
     "ename": "ImportError",
     "evalue": "dlopen(/usr/local/lib/python3.7/site-packages/gcvspline/_gcvspl.cpython-37m-darwin.so, 2): Library not loaded: /usr/local/opt/gcc/lib/gcc/8/libgfortran.5.dylib\n  Referenced from: /usr/local/lib/python3.7/site-packages/gcvspline/_gcvspl.cpython-37m-darwin.so\n  Reason: image not found",
     "output_type": "error",
     "traceback": [
      "\u001b[0;31m---------------------------------------------------------------------------\u001b[0m",
      "\u001b[0;31mImportError\u001b[0m                               Traceback (most recent call last)",
      "\u001b[0;32m<ipython-input-1-88ba172e12e3>\u001b[0m in \u001b[0;36m<module>\u001b[0;34m\u001b[0m\n\u001b[1;32m     10\u001b[0m \u001b[0;34m\u001b[0m\u001b[0m\n\u001b[1;32m     11\u001b[0m \u001b[0;32mfrom\u001b[0m \u001b[0mscipy\u001b[0m\u001b[0;34m.\u001b[0m\u001b[0mspatial\u001b[0m\u001b[0;34m.\u001b[0m\u001b[0mtransform\u001b[0m \u001b[0;32mimport\u001b[0m \u001b[0mRotation\u001b[0m \u001b[0;32mas\u001b[0m \u001b[0mR\u001b[0m\u001b[0;34m\u001b[0m\u001b[0;34m\u001b[0m\u001b[0m\n\u001b[0;32m---> 12\u001b[0;31m \u001b[0;32mfrom\u001b[0m \u001b[0mgcvspline\u001b[0m \u001b[0;32mimport\u001b[0m \u001b[0mGCVSmoothedNSpline\u001b[0m\u001b[0;34m,\u001b[0m \u001b[0mSmoothedNSpline\u001b[0m\u001b[0;34m\u001b[0m\u001b[0;34m\u001b[0m\u001b[0m\n\u001b[0m\u001b[1;32m     13\u001b[0m \u001b[0;34m\u001b[0m\u001b[0m\n\u001b[1;32m     14\u001b[0m \u001b[0;32mimport\u001b[0m \u001b[0mglob\u001b[0m\u001b[0;34m\u001b[0m\u001b[0;34m\u001b[0m\u001b[0m\n",
      "\u001b[0;32m/usr/local/lib/python3.7/site-packages/gcvspline/__init__.py\u001b[0m in \u001b[0;36m<module>\u001b[0;34m\u001b[0m\n\u001b[0;32m----> 1\u001b[0;31m \u001b[0;32mfrom\u001b[0m \u001b[0;34m.\u001b[0m\u001b[0mgcvspline\u001b[0m \u001b[0;32mimport\u001b[0m \u001b[0mgcvspline\u001b[0m\u001b[0;34m,\u001b[0m \u001b[0msplderivative\u001b[0m\u001b[0;34m\u001b[0m\u001b[0;34m\u001b[0m\u001b[0m\n\u001b[0m\u001b[1;32m      2\u001b[0m \u001b[0;32mfrom\u001b[0m \u001b[0;34m.\u001b[0m\u001b[0mgcvspline2\u001b[0m \u001b[0;32mimport\u001b[0m \u001b[0;34m*\u001b[0m\u001b[0;34m\u001b[0m\u001b[0;34m\u001b[0m\u001b[0m\n",
      "\u001b[0;32m/usr/local/lib/python3.7/site-packages/gcvspline/gcvspline.py\u001b[0m in \u001b[0;36m<module>\u001b[0;34m\u001b[0m\n\u001b[1;32m     10\u001b[0m \"\"\"\n\u001b[1;32m     11\u001b[0m \u001b[0;34m\u001b[0m\u001b[0m\n\u001b[0;32m---> 12\u001b[0;31m \u001b[0;32mfrom\u001b[0m \u001b[0;34m.\u001b[0m \u001b[0;32mimport\u001b[0m \u001b[0m_gcvspl\u001b[0m \u001b[0;32mas\u001b[0m \u001b[0mgcvspl\u001b[0m\u001b[0;34m\u001b[0m\u001b[0;34m\u001b[0m\u001b[0m\n\u001b[0m\u001b[1;32m     13\u001b[0m \u001b[0;32mimport\u001b[0m \u001b[0mnumpy\u001b[0m \u001b[0;32mas\u001b[0m \u001b[0mnp\u001b[0m\u001b[0;34m\u001b[0m\u001b[0;34m\u001b[0m\u001b[0m\n\u001b[1;32m     14\u001b[0m \u001b[0;34m\u001b[0m\u001b[0m\n",
      "\u001b[0;31mImportError\u001b[0m: dlopen(/usr/local/lib/python3.7/site-packages/gcvspline/_gcvspl.cpython-37m-darwin.so, 2): Library not loaded: /usr/local/opt/gcc/lib/gcc/8/libgfortran.5.dylib\n  Referenced from: /usr/local/lib/python3.7/site-packages/gcvspline/_gcvspl.cpython-37m-darwin.so\n  Reason: image not found"
     ]
    }
   ],
   "source": [
    "import numpy as np\n",
    "import pandas as pd\n",
    "\n",
    "%matplotlib osx\n",
    "import matplotlib.pyplot as plt\n",
    "import matplotlib as mp\n",
    "\n",
    "# from m_gncspline import global_natural_spline\n",
    "# from align_single_frame import align\n",
    "\n",
    "from scipy.spatial.transform import Rotation as R\n",
    "from gcvspline import GCVSmoothedNSpline, SmoothedNSpline\n",
    "\n",
    "import glob\n",
    "from scipy.signal import find_peaks"
   ]
  },
  {
   "cell_type": "markdown",
   "metadata": {
    "tags": []
   },
   "source": [
    "# Functions to Align Coords"
   ]
  },
  {
   "cell_type": "code",
   "execution_count": 2,
   "metadata": {},
   "outputs": [],
   "source": [
    "def get_rotation_matrix(i_v, unit=None):\n",
    "    # From http://www.j3d.org/matrix_faq/matrfaq_latest.html#Q38\n",
    "    if unit is None:\n",
    "        unit = [1.0, 0.0, 0.0]\n",
    "    # Normalize vector length\n",
    "    i_v /= np.linalg.norm(i_v)\n",
    "\n",
    "    # Get axis\n",
    "    uvw = np.cross(unit,i_v)\n",
    "\n",
    "    # compute trig values - no need to go through arccos and back\n",
    "    rcos = np.dot(i_v, unit)\n",
    "    rsin = np.linalg.norm(uvw)\n",
    "\n",
    "    #normalize and unpack axis\n",
    "    if not np.isclose(rsin, 0):\n",
    "        uvw /= rsin\n",
    "    u, v, w = uvw\n",
    "\n",
    "    # Compute rotation matrix - re-expressed to show structure\n",
    "    return (\n",
    "        rcos * np.eye(3) +\n",
    "        rsin * np.array([\n",
    "            [ 0, -w,  v],\n",
    "            [ w,  0, -u],\n",
    "            [-v,  u,  0]\n",
    "        ]) +\n",
    "        (1.0 - rcos) * uvw[:,None] * uvw[None,:]\n",
    "    )\n",
    "\n",
    "def fix_coords(stuff,origin,target,gravity):\n",
    "    \"\"\"stuff: a numpy array with data to be re-aligned to a new coordinate system where Z aligns with gravity\n",
    "    origin: a 3d vector specifying the oriigin of the coordinate system\n",
    "    target: a 3d vector specifying the x axis of the coordinate system (points from origin to target)\n",
    "    gravity: a 3D unit vector that specifies the direction of gravity (down) in the original coordinate system\"\"\"\n",
    "    \n",
    "    \n",
    "    rmat = get_rotation_matrix(gnorm, unit=[0.0,0.0,-1.0])\n",
    "\n",
    "    oe = np.dot(origin, rmat)\n",
    "    te = np.dot(target, rmat)\n",
    "\n",
    "    stuff1 = np.copy(stuff)\n",
    "    \n",
    "    for i in np.arange(len(stuff)):\n",
    "        stuff1[i,:] = np.dot(stuff[i,:].T, rmat)\n",
    "        \n",
    "    \n",
    "    X = np.array([te[0,0] - oe[0,0], te[0,1]-oe[0,1],0])\n",
    "    rmat1 = get_rotation_matrix(X ,unit=[1,0,0])\n",
    "    \n",
    "    stuff2 = np.copy(stuff)\n",
    "    for i in np.arange(len(stuff)):\n",
    "        stuff2[i,:] = np.dot(stuff1[i,:].T, rmat1)\n",
    "    \n",
    "    return stuff2"
   ]
  },
  {
   "cell_type": "markdown",
   "metadata": {
    "tags": []
   },
   "source": [
    "# Import head trajectories + align coordinates"
   ]
  },
  {
   "cell_type": "code",
   "execution_count": 3,
   "metadata": {},
   "outputs": [
    {
     "data": {
      "text/html": [
       "<div>\n",
       "<style scoped>\n",
       "    .dataframe tbody tr th:only-of-type {\n",
       "        vertical-align: middle;\n",
       "    }\n",
       "\n",
       "    .dataframe tbody tr th {\n",
       "        vertical-align: top;\n",
       "    }\n",
       "\n",
       "    .dataframe thead th {\n",
       "        text-align: right;\n",
       "    }\n",
       "</style>\n",
       "<table border=\"1\" class=\"dataframe\">\n",
       "  <thead>\n",
       "    <tr style=\"text-align: right;\">\n",
       "      <th></th>\n",
       "      <th>tn</th>\n",
       "      <th>ID</th>\n",
       "      <th>svl</th>\n",
       "      <th>type</th>\n",
       "      <th>gs_att</th>\n",
       "      <th>start</th>\n",
       "      <th>transition</th>\n",
       "      <th>acceleration</th>\n",
       "      <th>stop</th>\n",
       "      <th>reference</th>\n",
       "      <th>orig_x</th>\n",
       "      <th>targ_x</th>\n",
       "      <th>orig_y</th>\n",
       "      <th>targ_y</th>\n",
       "      <th>orig_z</th>\n",
       "      <th>targ_z</th>\n",
       "    </tr>\n",
       "  </thead>\n",
       "  <tbody>\n",
       "    <tr>\n",
       "      <th>0</th>\n",
       "      <td>9</td>\n",
       "      <td>2018DP01</td>\n",
       "      <td>113.900000</td>\n",
       "      <td>inline</td>\n",
       "      <td>50.0</td>\n",
       "      <td>1</td>\n",
       "      <td>1401.0</td>\n",
       "      <td>1401</td>\n",
       "      <td>1487</td>\n",
       "      <td>1498</td>\n",
       "      <td>NaN</td>\n",
       "      <td>NaN</td>\n",
       "      <td>NaN</td>\n",
       "      <td>NaN</td>\n",
       "      <td>NaN</td>\n",
       "      <td>NaN</td>\n",
       "    </tr>\n",
       "    <tr>\n",
       "      <th>1</th>\n",
       "      <td>10</td>\n",
       "      <td>2018DP01</td>\n",
       "      <td>113.900000</td>\n",
       "      <td>inline</td>\n",
       "      <td>46.0</td>\n",
       "      <td>1</td>\n",
       "      <td>865.0</td>\n",
       "      <td>865</td>\n",
       "      <td>918</td>\n",
       "      <td>1</td>\n",
       "      <td>NaN</td>\n",
       "      <td>NaN</td>\n",
       "      <td>NaN</td>\n",
       "      <td>NaN</td>\n",
       "      <td>NaN</td>\n",
       "      <td>NaN</td>\n",
       "    </tr>\n",
       "    <tr>\n",
       "      <th>2</th>\n",
       "      <td>11</td>\n",
       "      <td>2018DP01</td>\n",
       "      <td>113.900000</td>\n",
       "      <td>inline</td>\n",
       "      <td>45.2</td>\n",
       "      <td>1</td>\n",
       "      <td>365.0</td>\n",
       "      <td>365</td>\n",
       "      <td>443</td>\n",
       "      <td>1</td>\n",
       "      <td>NaN</td>\n",
       "      <td>NaN</td>\n",
       "      <td>NaN</td>\n",
       "      <td>NaN</td>\n",
       "      <td>NaN</td>\n",
       "      <td>NaN</td>\n",
       "    </tr>\n",
       "    <tr>\n",
       "      <th>3</th>\n",
       "      <td>14</td>\n",
       "      <td>2018DP01</td>\n",
       "      <td>113.900000</td>\n",
       "      <td>inline</td>\n",
       "      <td>55.0</td>\n",
       "      <td>1</td>\n",
       "      <td>1494.0</td>\n",
       "      <td>1494</td>\n",
       "      <td>1585</td>\n",
       "      <td>847</td>\n",
       "      <td>NaN</td>\n",
       "      <td>NaN</td>\n",
       "      <td>NaN</td>\n",
       "      <td>NaN</td>\n",
       "      <td>NaN</td>\n",
       "      <td>NaN</td>\n",
       "    </tr>\n",
       "    <tr>\n",
       "      <th>4</th>\n",
       "      <td>42</td>\n",
       "      <td>2018DP02</td>\n",
       "      <td>127.443333</td>\n",
       "      <td>inline</td>\n",
       "      <td>53.0</td>\n",
       "      <td>8063</td>\n",
       "      <td>8712.0</td>\n",
       "      <td>8712</td>\n",
       "      <td>8757</td>\n",
       "      <td>4468</td>\n",
       "      <td>-0.342431</td>\n",
       "      <td>0.202844</td>\n",
       "      <td>-0.39909</td>\n",
       "      <td>-0.39909</td>\n",
       "      <td>0.091379</td>\n",
       "      <td>0.114363</td>\n",
       "    </tr>\n",
       "  </tbody>\n",
       "</table>\n",
       "</div>"
      ],
      "text/plain": [
       "   tn        ID         svl    type  gs_att  start  transition  acceleration  \\\n",
       "0   9  2018DP01  113.900000  inline    50.0      1      1401.0          1401   \n",
       "1  10  2018DP01  113.900000  inline    46.0      1       865.0           865   \n",
       "2  11  2018DP01  113.900000  inline    45.2      1       365.0           365   \n",
       "3  14  2018DP01  113.900000  inline    55.0      1      1494.0          1494   \n",
       "4  42  2018DP02  127.443333  inline    53.0   8063      8712.0          8712   \n",
       "\n",
       "   stop  reference    orig_x    targ_x   orig_y   targ_y    orig_z    targ_z  \n",
       "0  1487       1498       NaN       NaN      NaN      NaN       NaN       NaN  \n",
       "1   918          1       NaN       NaN      NaN      NaN       NaN       NaN  \n",
       "2   443          1       NaN       NaN      NaN      NaN       NaN       NaN  \n",
       "3  1585        847       NaN       NaN      NaN      NaN       NaN       NaN  \n",
       "4  8757       4468 -0.342431  0.202844 -0.39909 -0.39909  0.091379  0.114363  "
      ]
     },
     "execution_count": 3,
     "metadata": {},
     "output_type": "execute_result"
    }
   ],
   "source": [
    "ref = pd.read_csv('/Users/grahmich/Desktop/Kinematics Paper/Dendrelaphis NC Data.csv')\n",
    "ref = ref.dropna(how='all')\n",
    "\n",
    "tn_list = list(ref['tn'])\n",
    "transitions = list(ref['transition'])\n",
    "accelerations = list(ref['acceleration'])\n",
    "starts = list(ref['start'])\n",
    "\n",
    "transitions = [f-g for f,g in zip(transitions, starts)]\n",
    "accelerations = [i-j for i,j in zip(accelerations, starts)]\n",
    "\n",
    "\n",
    "ref = ref.dropna(axis=0,how='all')\n",
    "ref.head()"
   ]
  },
  {
   "cell_type": "code",
   "execution_count": 7,
   "metadata": {},
   "outputs": [
    {
     "data": {
      "text/plain": [
       "118"
      ]
     },
     "execution_count": 7,
     "metadata": {},
     "output_type": "execute_result"
    }
   ],
   "source": [
    "#load the files\n",
    "path = '/Users/grahmich/Desktop/Kinematics Paper/Head_Trajectories/*'\n",
    "Files = glob.glob(path)\n",
    "Files = [i for i in Files if i[-3:]==\"csv\"]\n",
    "Files.sort()\n",
    "len(Files)"
   ]
  },
  {
   "cell_type": "code",
   "execution_count": 8,
   "metadata": {},
   "outputs": [
    {
     "name": "stdout",
     "output_type": "stream",
     "text": [
      "[]\n",
      "[]\n",
      "0\n",
      "0\n"
     ]
    }
   ],
   "source": [
    "#check: are the csv files in the folder corresponding to the trials in the reference DF?\n",
    "#are both trial lists in the same order?\n",
    "trials1 = []\n",
    "for file in Files:\n",
    "    tn = int(file[-23:-20])\n",
    "    trials1.append(tn)\n",
    "    \n",
    "whoops = [i for i in trials1 if not i in tn_list]\n",
    "whoops1 = [i for i in tn_list if not i in trials1]\n",
    "whoops2 = [i-j for i,j in zip(tn_list,trials1)]\n",
    "print(whoops)\n",
    "print(whoops1)\n",
    "print(max(whoops2))\n",
    "print(min(whoops2))"
   ]
  },
  {
   "cell_type": "code",
   "execution_count": 10,
   "metadata": {},
   "outputs": [],
   "source": [
    "rough = []\n",
    "origins = []\n",
    "targets = []\n",
    "\n",
    "\n",
    "for ind in np.arange(len(trials1)):\n",
    "    \n",
    "    ID = Files[ind][-19:-11] #read in as a string.\n",
    "    trial = tn_list[ind]\n",
    "    data = pd.read_csv(Files[ind])\n",
    "    \n",
    "    svl = ref.loc[ind]['svl']/100 #cm to m\n",
    "    start = ref.loc[ind]['start']\n",
    "    end = ref.loc[ind]['stop']\n",
    "    frame = ref.loc[ind]['reference']\n",
    "    \n",
    "   \n",
    "    #pull out relevant points: gravity, origin and target ends. \n",
    "    \n",
    "    ghigh = np.array(data.loc[[frame-1],['pt4_X','pt4_Y','pt4_Z']])\n",
    "    glow = np.array(data.loc[[frame-1],['pt5_X','pt5_Y','pt5_Z']])\n",
    "    grav = (ghigh-glow)[0]\n",
    "    gnorm = grav/np.linalg.norm(grav)\n",
    "    \n",
    "    OE = np.array(data.loc[[frame-1],['pt2_X','pt2_Y','pt2_Z']])\n",
    "    TE = np.array(data.loc[[frame-1],['pt3_X','pt3_Y','pt3_Z']])\n",
    "    \n",
    "    \n",
    "    #nan check #1\n",
    "    if np.isnan(np.sum(ghigh)):\n",
    "        print(str(trial)+\": ghigh has nans\")\n",
    "        continue\n",
    "        \n",
    "    #nan check # 2\n",
    "    if np.isnan(np.sum(glow)):\n",
    "        print(str(trial)+\": glow has nans\")\n",
    "        continue\n",
    "    \n",
    "    #nan check 3\n",
    "    if np.isnan(np.sum(OE)):\n",
    "        print(str(trial)+\": OE has nans\")\n",
    "        continue\n",
    "        \n",
    "    #nan check 4\n",
    "    if np.isnan(np.sum(TE)):\n",
    "        print(str(trial)+\": glow has nans\")\n",
    "        continue \n",
    "        \n",
    "    OE = OE.reshape(1,3)\n",
    "    TE = TE.reshape(1,3)\n",
    "    g1 = glow.reshape(1,3)\n",
    "    g2 = ghigh.reshape(1,3)\n",
    "\n",
    "    \n",
    "    #crop head data to area of interest, between gap entry and landing.\n",
    "    head_traj = np.array(data[['pt1_X','pt1_Y','pt1_Z']])\n",
    "    head_traj = head_traj[start:end,:]\n",
    "    \n",
    "    #nan check 5\n",
    "    if np.isnan(np.sum(head_traj)):\n",
    "        print(str(trial)+\": head_traj has nans\")\n",
    "        continue\n",
    "    \n",
    "    #align coordinates\n",
    "    oe1 = fix_coords(OE,OE,TE,gnorm)\n",
    "    te1 = fix_coords(TE,OE,TE,gnorm)\n",
    "    g1a = fix_coords(g1,OE,TE,gnorm)\n",
    "    g2a = fix_coords(g2,OE,TE,gnorm)\n",
    "\n",
    "    \n",
    "    head1 = fix_coords(head_traj,OE,TE,gnorm)\n",
    "    rough.append(head1) #save a list of all the aligned head trajectories\n",
    "    origins.append(oe1) #save a list of origin positions\n",
    "    targets.append(te1) #save a list of target positions\n",
    "    "
   ]
  },
  {
   "cell_type": "code",
   "execution_count": 11,
   "metadata": {},
   "outputs": [],
   "source": [
    "for i in np.arange(4):\n",
    "    plt.figure()\n",
    "    plt.plot(rough[i][:,0],rough[i][:,2])\n",
    "    plt.plot(origins[i][0,0],origins[i][0,2],'o')\n",
    "    plt.plot(targets[i][0,0],targets[i][0,2],'o')\n",
    "    plt.gca().set_aspect('equal')"
   ]
  },
  {
   "cell_type": "markdown",
   "metadata": {
    "tags": []
   },
   "source": [
    "# Smoothing"
   ]
  },
  {
   "cell_type": "markdown",
   "metadata": {
    "tags": []
   },
   "source": [
    "## Determine appropriate smoothing parameter\n",
    "\n",
    "GCV spline function auto-generates a smoothing parameter (p) that meets the generalized cross-validatory spline criterion (see: Woltring, 1986). Using the manual spline smoothing, we can increase or decrease that smoothing by altering p. In this section, I use several different multipliers to see which gives appropriate results. Appropriate results are those in which no real movements are lost, but errors from digitizing are smoothed out. \n",
    "\n",
    "To assess this, I look at all the trials smoothed with the gcv default p and try to find the peak and trough associated with the final dynamic movements. Snakes do not generally have a wiggle at the peak of their lunge - its an upside down parabola. I then recorded which trials deviated from this according to the peak finder (i.e. no peak found at the top or multiple wiggles, etc). I checked them against each video to see if the wiggle was legitimate or not. \n",
    "\n",
    "I then experimented with different p multipliers until I found one which kept real wiggles, but smoothed out false wiggles. "
   ]
  },
  {
   "cell_type": "code",
   "execution_count": 7,
   "metadata": {},
   "outputs": [],
   "source": [
    "# smooth all 119 files\n",
    "# create smoothed trajectories using manual GCV p value\n",
    "\n",
    "smooth1 = []\n",
    "\n",
    "for i in np.arange(len(rough)):\n",
    "    head1 = rough[i]\n",
    "    smoothp = np.empty(np.shape(head1))\n",
    "    fr = 120\n",
    "    t = [each/fr for each in np.arange(np.shape(head1)[0])]\n",
    "    p = 1\n",
    "\n",
    "    for d in [0,1,2]:\n",
    "        x = head1[:,d]\n",
    "        GCV_auto = GCVSmoothedNSpline(t, x) #p chosen by program; check it is a good value.\n",
    "        pf = GCV_auto.p * p\n",
    "        GCV_manual = SmoothedNSpline(t, x, p=pf) #set to a multiple of the auto-selected value\n",
    "        x_smoothed = GCV_manual(t)\n",
    "        smoothp[:,d] = x_smoothed\n",
    "        \n",
    "    smooth1.append(smoothp)"
   ]
  },
  {
   "cell_type": "code",
   "execution_count": 54,
   "metadata": {},
   "outputs": [
    {
     "ename": "NameError",
     "evalue": "name 'smooth1' is not defined",
     "output_type": "error",
     "traceback": [
      "\u001b[0;31m---------------------------------------------------------------------------\u001b[0m",
      "\u001b[0;31mNameError\u001b[0m                                 Traceback (most recent call last)",
      "\u001b[0;32m<ipython-input-54-25e91fc9e799>\u001b[0m in \u001b[0;36m<module>\u001b[0;34m\u001b[0m\n\u001b[1;32m      3\u001b[0m     \u001b[0mplt\u001b[0m\u001b[0;34m.\u001b[0m\u001b[0mfigure\u001b[0m\u001b[0;34m(\u001b[0m\u001b[0;34m)\u001b[0m\u001b[0;34m\u001b[0m\u001b[0;34m\u001b[0m\u001b[0m\n\u001b[1;32m      4\u001b[0m \u001b[0;34m\u001b[0m\u001b[0m\n\u001b[0;32m----> 5\u001b[0;31m     \u001b[0mpos\u001b[0m \u001b[0;34m=\u001b[0m \u001b[0msmooth1\u001b[0m\u001b[0;34m[\u001b[0m\u001b[0mt\u001b[0m\u001b[0;34m]\u001b[0m\u001b[0;34m\u001b[0m\u001b[0;34m\u001b[0m\u001b[0m\n\u001b[0m\u001b[1;32m      6\u001b[0m     \u001b[0mtops\u001b[0m \u001b[0;34m=\u001b[0m \u001b[0mfind_peaks\u001b[0m\u001b[0;34m(\u001b[0m\u001b[0mpos\u001b[0m\u001b[0;34m[\u001b[0m\u001b[0;34m:\u001b[0m\u001b[0;34m,\u001b[0m\u001b[0;36m2\u001b[0m\u001b[0;34m]\u001b[0m\u001b[0;34m)\u001b[0m\u001b[0;34m[\u001b[0m\u001b[0;36m0\u001b[0m\u001b[0;34m]\u001b[0m\u001b[0;34m\u001b[0m\u001b[0;34m\u001b[0m\u001b[0m\n\u001b[1;32m      7\u001b[0m     \u001b[0mbots\u001b[0m \u001b[0;34m=\u001b[0m \u001b[0mfind_peaks\u001b[0m\u001b[0;34m(\u001b[0m\u001b[0;34m-\u001b[0m\u001b[0mpos\u001b[0m\u001b[0;34m[\u001b[0m\u001b[0;34m:\u001b[0m\u001b[0mtops\u001b[0m\u001b[0;34m[\u001b[0m\u001b[0;34m-\u001b[0m\u001b[0;36m1\u001b[0m\u001b[0;34m]\u001b[0m\u001b[0;34m,\u001b[0m\u001b[0;36m2\u001b[0m\u001b[0;34m]\u001b[0m\u001b[0;34m)\u001b[0m\u001b[0;34m[\u001b[0m\u001b[0;36m0\u001b[0m\u001b[0;34m]\u001b[0m\u001b[0;34m\u001b[0m\u001b[0;34m\u001b[0m\u001b[0m\n",
      "\u001b[0;31mNameError\u001b[0m: name 'smooth1' is not defined"
     ]
    }
   ],
   "source": [
    "# graph X-Z position for  all 119 trials showing peaks and valleys of the final lunge\n",
    "for t in np.arange(len(tn_list)):\n",
    "    plt.figure()\n",
    "    \n",
    "    pos = smooth1[t]\n",
    "    tops = find_peaks(pos[:,2])[0]\n",
    "    bots = find_peaks(-pos[:tops[-1],2])[0]\n",
    "\n",
    "    tf = transitions[t]\n",
    "    af = accelerations[t]\n",
    "\n",
    "    plt.suptitle(tn_list[t])\n",
    "\n",
    "    plt.scatter(pos[:,0],pos[:,2],s=4)\n",
    "    plt.scatter(pos[tops[-1],0],pos[tops[-1],2],label='peak')\n",
    "\n",
    "    if len(bots)>0:\n",
    "        plt.scatter(pos[bots[-1],0],pos[bots[-1],2],label='trough')\n",
    "\n",
    "    plt.scatter(pos[tf,0],pos[tf,2],label='transition frame')\n",
    "#     plt.scatter(pos[af,0],pos[af,2],label='acceleration frame')\n",
    "\n",
    "    plt.gca().set_ylim(min(pos[:,2])-0.10,max(pos[:,2])+0.10) #give a little breathing room around the data\n",
    "    plt.gca().set_aspect('equal')\n",
    "\n",
    "    plt.legend(loc='lower center')\n",
    "    plt.savefig(\"/Users/grahmich/Desktop/Jupyter Notebooks/Graphs/X-Z Trajectories - Smoothed/\"+str(tn_list[t])+\"_headtraj.pdf\")\n",
    "    plt.close()"
   ]
  },
  {
   "cell_type": "code",
   "execution_count": 18,
   "metadata": {},
   "outputs": [],
   "source": [
    "# based on the above graph, the following trials were assessed using the video: \n",
    "# 71, 86, 92, 102, 141, 164, 166, 171, 189, 193, 237\n",
    "\n",
    "# p_opts = [1,100,200,300,400,500,600,700,800]\n",
    "p_opts = [1,25,50,75,100,125,150,175,200]\n",
    "# p_opts = [41,44,47,50,53,62,63,64,65]\n",
    "\n",
    "high = []\n",
    "low = []\n",
    "smooths = []\n",
    "\n",
    "ind = tn_list.index(237)\n",
    "head1 = rough[ind]\n",
    "\n",
    "for p in p_opts:    \n",
    "    #create smoothed trajectories\n",
    "    smoothp = np.empty(np.shape(head1))\n",
    "    fr = 120\n",
    "    t = [each/fr for each in np.arange(np.shape(head1)[0])]\n",
    "\n",
    "    for d in [0,1,2]:\n",
    "        x = head1[:,d]\n",
    "        GCV_auto = GCVSmoothedNSpline(t, x) #p chosen by program\n",
    "        pf = GCV_auto.p * p\n",
    "        GCV_manual = SmoothedNSpline(t, x, p=pf) #set to a multiple of the auto-selected value\n",
    "        x_smoothed = GCV_manual(t)\n",
    "        smoothp[:,d] = x_smoothed\n",
    "        \n",
    "    tops = find_peaks(smoothp[:,2])[0]\n",
    "    bots = find_peaks(-smoothp[:tops[-1],2])[0]\n",
    "    \n",
    "    high.append(tops[-1])\n",
    "    low.append(bots[-1])\n",
    "    smooths.append(smoothp)"
   ]
  },
  {
   "cell_type": "code",
   "execution_count": 21,
   "metadata": {},
   "outputs": [
    {
     "name": "stdout",
     "output_type": "stream",
     "text": [
      "0.15762491568794815\n",
      "0.15738036980994044\n",
      "0.1573186054182394\n",
      "0.15728051915430566\n",
      "0.1572498858574879\n",
      "0.15722240594790354\n",
      "0.15719652587551167\n",
      "0.15717157970257123\n",
      "0.15714724772291794\n"
     ]
    }
   ],
   "source": [
    "fig, ax = plt.subplots(3,3,sharex=True, sharey=True)\n",
    "\n",
    "for i in [0,1,2]:\n",
    "    for j in [0,1,2]:\n",
    "        t = j+3*i\n",
    "        \n",
    "        tf = transitions[ind]\n",
    "        ax[i,j].scatter(smooths[t][:,0],smooths[t][:,2], s = 4)\n",
    "        # ax[i,j].scatter(smooths[t][high[t],0],smooths[t][high[t],2],label='high point')\n",
    "        # ax[i,j].scatter(smooths[t][low[t],0],smooths[t][low[t],2],label='low point')\n",
    "        # ax[i,j].scatter(smooths[t][tf,0],smooths[t][tf,2],label='transition frame')\n",
    "        ax[i,j].set_title(p_opts[t])\n",
    "        ax[i,j].set_aspect('equal')\n",
    "        \n",
    "        print(np.max(smooths[t][:,0]))\n",
    "        \n",
    "        fig.suptitle(tn_list[ind])"
   ]
  },
  {
   "cell_type": "markdown",
   "metadata": {},
   "source": [
    "Based on video and graphs of trial 71, smoothing parameter can be as much as 800 without losing wriggle after transition frame (real feature)\n",
    "\n",
    "Based on video and graphs of trial 89, smoothing parameter can be as much as 800 without losing real features (peaks on way up)\n",
    "\n",
    "Based on video and graphs of trial 92, smoothing parameter should be <100~200, because loses a real feature (nose tipping up)\n",
    "\n",
    "Based on video and graphs of trial 102, smoothing parameter can be as much as 200 without losing real features.\n",
    "\n",
    "Based on video and graphs of trial 141, smoothing parameter should be >25~50 to remove false wiggle in data (wiggle in final descent). \n",
    "\n",
    "Based on video and graphs of trial 164, smoothing parameter can be as much as 200 without losing real features.\n",
    "\n",
    "Based on video and graphs of trial 166, smoothing parameter needs to be > 1~25 to remove false wiggle in data. \n",
    "\n",
    "Based on video and graphs of trial 171, smoothing parameter can be as much as 200 without losing real features.\n",
    "\n",
    "Based on video and graphs of trial 189, smoothing parameter needs to be > 1~25 to remove false wiggle in data. \n",
    "\n",
    "Based on video and graphs of trial 193, smoothing parameter needs to be > 1~25 to remove false wiggle in data. \n",
    "\n",
    "Based on video and graphs of trial 237, smoothing parameter needs to be 41<p<65 to remove false wiggle in data. \n",
    "\n",
    "*Based on these investigations, 64 gives smoothest data without losing real features*"
   ]
  },
  {
   "cell_type": "markdown",
   "metadata": {},
   "source": [
    "## Figure to illustrate smoothing process"
   ]
  },
  {
   "cell_type": "code",
   "execution_count": 12,
   "metadata": {},
   "outputs": [
    {
     "data": {
      "text/plain": [
       "22"
      ]
     },
     "execution_count": 12,
     "metadata": {},
     "output_type": "execute_result"
    }
   ],
   "source": [
    "trials1.index(92)"
   ]
  },
  {
   "cell_type": "code",
   "execution_count": 29,
   "metadata": {},
   "outputs": [
    {
     "data": {
      "text/plain": [
       "<matplotlib.legend.Legend at 0x15075fbe0>"
      ]
     },
     "execution_count": 29,
     "metadata": {},
     "output_type": "execute_result"
    }
   ],
   "source": [
    "i = 22\n",
    "\n",
    "head1 = rough[i]\n",
    "smoothp = np.empty(np.shape(head1))\n",
    "fr = 120\n",
    "t = [each/fr for each in np.arange(np.shape(head1)[0])]\n",
    "p = 1\n",
    "\n",
    "for d in [0,1,2]:\n",
    "    x = head1[:,d]\n",
    "    GCV_auto = GCVSmoothedNSpline(t, x) #p chosen by program; check it is a good value.\n",
    "    pf = GCV_auto.p * p\n",
    "    GCV_manual = SmoothedNSpline(t, x, p=pf) #set to a multiple of the auto-selected value\n",
    "    x_smoothed = GCV_manual(t)\n",
    "    smoothp[:,d] = x_smoothed\n",
    "    \n",
    "#,25,41,44,47,50,53,62,63,64,65,\n",
    "#,400,500,600,700,800\n",
    "#,125,150,175\n",
    "\n",
    "p_opts = [75,100,200,300]\n",
    "smooths = []\n",
    "\n",
    "for each in p_opts:    \n",
    "    #create smoothed trajectories\n",
    "    smoothp1 = np.empty(np.shape(head1))\n",
    "    fr = 120\n",
    "    t = [each/fr for each in np.arange(np.shape(head1)[0])]\n",
    "\n",
    "    for d in [0,1,2]:\n",
    "        x = head1[:,d]\n",
    "        GCV_auto = GCVSmoothedNSpline(t, x) #p chosen by program\n",
    "        pf = GCV_auto.p * each\n",
    "        GCV_manual = SmoothedNSpline(t, x, p=pf) #set to a multiple of the auto-selected value\n",
    "        x_smoothed = GCV_manual(t)\n",
    "        smoothp1[:,d] = x_smoothed\n",
    "        \n",
    "\n",
    "    smooths.append(smoothp1)\n",
    "\n",
    "plt.figure()\n",
    "plt.suptitle(tn_list[i])\n",
    "pos = smoothp\n",
    "\n",
    "\n",
    "plt.scatter(head1[:,0],head1[:,2],s=10, label=\"Raw data\")\n",
    "plt.scatter(pos[:,0],pos[:,2], s=10, label=\"GCV spline\")\n",
    "plt.scatter(head1[32,0],head1[32,2],s=20, label=\"Head position 1\")\n",
    "plt.scatter(head1[51,0],head1[51,2],s=20, label=\"Head position 2\")\n",
    "for j in np.arange(len(p_opts)):\n",
    "    plt.scatter(smooths[j][:,0],smooths[j][:,2],s=10,label=str(p_opts[j])+\"x GCV\")\n",
    "        \n",
    "\n",
    "plt.gca().set_ylim(min(pos[:,2])-0.10,max(pos[:,2])+0.10) #give a little breathing room around the data\n",
    "plt.gca().set_aspect('equal')\n",
    "\n",
    "plt.legend(loc='lower center',ncol=5)\n"
   ]
  },
  {
   "cell_type": "markdown",
   "metadata": {},
   "source": [
    "## Apply Smoothing"
   ]
  },
  {
   "cell_type": "code",
   "execution_count": 12,
   "metadata": {},
   "outputs": [],
   "source": [
    "#re-running all trials with selected smoothing parameter\n",
    "smooth2 = []\n",
    "\n",
    "for i in np.arange(len(rough)):\n",
    "    head1 = rough[i]\n",
    "    ind = tn_list.index(trials1[i])\n",
    "    smoothp = np.empty(np.shape(head1))\n",
    "    fr = 120\n",
    "    t = [each/fr for each in np.arange(np.shape(head1)[0])]\n",
    "    p = 65\n",
    "\n",
    "    for d in [0,1,2]:\n",
    "        x = head1[:,d]\n",
    "        GCV_auto = GCVSmoothedNSpline(t, x) \n",
    "        pf = GCV_auto.p * p\n",
    "        GCV_manual = SmoothedNSpline(t, x, p=pf) #set to a multiple of the auto-selected value\n",
    "        x_smoothed = GCV_manual(t)\n",
    "        smoothp[:,d] = x_smoothed\n",
    "        \n",
    "    smooth2.append(smoothp)\n",
    "    np.savetxt(str(trials1[i])+'_'+ref['ID'][ind]+'_'+'smoothed.csv', smoothp, delimiter=\",\")"
   ]
  },
  {
   "cell_type": "code",
   "execution_count": 13,
   "metadata": {},
   "outputs": [],
   "source": [
    "#graphing smoothed data on top of raw data\n",
    "\n",
    "for t in np.arange(len(tn_list)):\n",
    "    plt.figure()\n",
    "    \n",
    "    pos = smooth2[t]\n",
    "    pos1 = rough[t]\n",
    "    \n",
    "    tf = transitions[t]\n",
    "    af = accelerations[t]\n",
    "\n",
    "    plt.suptitle(tn_list[t])\n",
    "    plt.scatter(pos1[:,0],pos1[:,2],s=10,label = 'Unsmoothed',c=\"#A9A9A9\",zorder=1)\n",
    "    plt.plot(pos[:,0],pos[:,2], label='Smoothed (p = 64)',zorder=2)\n",
    "    \n",
    "    if not np.isnan(tf):\n",
    "        tf = int(tf)\n",
    "        plt.scatter(pos[tf,0],pos[tf,2],s=2,label='transition frame',zorder=3,c='#ff0000')\n",
    "\n",
    "    plt.scatter(pos[af,0],pos[af,2],s=2,label='acceleration frame',zorder=6,c='#ff8282')\n",
    "\n",
    "    plt.gca().set_ylim(min(pos[:,2])-0.10,max(pos[:,2])+0.10) #give a little breathing room around the data\n",
    "    plt.gca().set_aspect('equal')\n",
    "\n",
    "    plt.legend(loc='lower center',ncol=3)\n",
    "    plt.savefig(\"/Users/grahmich/Desktop/Kinematics Paper/Graphs/X-Z Trajectories - Smoothed/\"+str(tn_list[t])+\"_headtraj_smoothed.pdf\")\n",
    "    plt.close()"
   ]
  },
  {
   "cell_type": "markdown",
   "metadata": {
    "tags": []
   },
   "source": [
    "# Create reference dataframe"
   ]
  },
  {
   "cell_type": "markdown",
   "metadata": {
    "tags": []
   },
   "source": [
    "## Position data"
   ]
  },
  {
   "cell_type": "code",
   "execution_count": 14,
   "metadata": {},
   "outputs": [],
   "source": [
    "for ind in np.arange(len(smooth2)):\n",
    "    oe1 = origins[ind][0] #origin position\n",
    "    te1 = targets[ind][0] #target position\n",
    "    \n",
    "    \n",
    "    #save origin and target branch locations\n",
    "    ref.loc[ind,'orig_x'] = oe1[0]\n",
    "    ref.loc[ind,'targ_x'] = te1[0]\n",
    "    ref.loc[ind,'orig_y'] = oe1[1]\n",
    "    ref.loc[ind,'targ_y'] = te1[1]\n",
    "    ref.loc[ind,'orig_z'] = oe1[2]\n",
    "    ref.loc[ind,'targ_z'] = te1[2]\n"
   ]
  },
  {
   "cell_type": "code",
   "execution_count": 15,
   "metadata": {},
   "outputs": [],
   "source": [
    "ref.to_csv('/Users/grahmich/Desktop/Kinematics Paper/Dendrelaphis NC Data.csv',index=False)"
   ]
  },
  {
   "cell_type": "markdown",
   "metadata": {
    "tags": []
   },
   "source": [
    "# Velocity Metrics"
   ]
  },
  {
   "cell_type": "code",
   "execution_count": 16,
   "metadata": {},
   "outputs": [],
   "source": [
    "#generate smoothed velocities.\n",
    "\n",
    "for i in np.arange(len(smooth2)):\n",
    "    \n",
    "    ind = tn_list.index(trials1[i])\n",
    "    smoothp = smooth2[i]\n",
    "    trial = tn_list[ind]\n",
    "    tf = accelerations[ind]\n",
    "\n",
    "    #velocity metrics\n",
    "    A,B = np.shape(smoothp)\n",
    "    velocity = np.empty((A-2,B))\n",
    "    \n",
    "    for m in [0,1,2]:\n",
    "        pos = smoothp[:,m]\n",
    "        vel = np.empty(A-2)\n",
    "        ts = np.asarray([k*1.0/fr for k in np.arange(len(vel))])\n",
    "    \n",
    "        for n in range(1,len(ts)+1):\n",
    "            v = (pos[n+1]-pos[n-1])*fr/2.0\n",
    "            vel[n-1] = v\n",
    "    \n",
    "        t = [each/fr for each in np.arange(np.shape(vel)[0])]\n",
    "        GCV_auto = GCVSmoothedNSpline(t, vel)\n",
    "        v_smoothed = GCV_auto(t)\n",
    "        \n",
    "        velocity[:,m] = v_smoothed\n",
    "\n",
    "#   save values\n",
    "    np.savetxt(\"/Users/grahmich/Desktop/Kinematics Paper/Processed files/\"+str(trial)+ '_'+ref['ID'][ind]+'_'+'velocity.csv', velocity, delimiter=\",\")"
   ]
  },
  {
   "cell_type": "markdown",
   "metadata": {},
   "source": [
    "### Velocity Check Code"
   ]
  },
  {
   "cell_type": "code",
   "execution_count": 17,
   "metadata": {},
   "outputs": [
    {
     "ename": "NameError",
     "evalue": "name 'max_spot' is not defined",
     "output_type": "error",
     "traceback": [
      "\u001b[0;31m---------------------------------------------------------------------------\u001b[0m",
      "\u001b[0;31mNameError\u001b[0m                                 Traceback (most recent call last)",
      "\u001b[0;32m<ipython-input-17-b10789b0f687>\u001b[0m in \u001b[0;36m<module>\u001b[0;34m\u001b[0m\n\u001b[0;32m----> 1\u001b[0;31m \u001b[0mcheck_trials\u001b[0m \u001b[0;34m=\u001b[0m \u001b[0;34m[\u001b[0m\u001b[0mt\u001b[0m \u001b[0;32mfor\u001b[0m \u001b[0mi\u001b[0m\u001b[0;34m,\u001b[0m\u001b[0mj\u001b[0m\u001b[0;34m,\u001b[0m\u001b[0mt\u001b[0m \u001b[0;32min\u001b[0m \u001b[0mzip\u001b[0m\u001b[0;34m(\u001b[0m\u001b[0mmax_spot\u001b[0m\u001b[0;34m,\u001b[0m\u001b[0mmax_spot1\u001b[0m\u001b[0;34m,\u001b[0m\u001b[0mtn_list\u001b[0m\u001b[0;34m)\u001b[0m \u001b[0;32mif\u001b[0m \u001b[0;32mnot\u001b[0m \u001b[0mi\u001b[0m\u001b[0;34m-\u001b[0m\u001b[0mj\u001b[0m\u001b[0;34m==\u001b[0m\u001b[0;36m0\u001b[0m \u001b[0;34m]\u001b[0m\u001b[0;34m\u001b[0m\u001b[0;34m\u001b[0m\u001b[0m\n\u001b[0m\u001b[1;32m      2\u001b[0m \u001b[0;34m\u001b[0m\u001b[0m\n\u001b[1;32m      3\u001b[0m \u001b[0;31m#12 trials to check\u001b[0m\u001b[0;34m\u001b[0m\u001b[0;34m\u001b[0m\u001b[0;34m\u001b[0m\u001b[0m\n\u001b[1;32m      4\u001b[0m \u001b[0mplt\u001b[0m\u001b[0;34m.\u001b[0m\u001b[0mstyle\u001b[0m\u001b[0;34m.\u001b[0m\u001b[0muse\u001b[0m\u001b[0;34m(\u001b[0m\u001b[0;34m'default'\u001b[0m\u001b[0;34m)\u001b[0m\u001b[0;34m\u001b[0m\u001b[0;34m\u001b[0m\u001b[0m\n\u001b[1;32m      5\u001b[0m \u001b[0mpfiles\u001b[0m \u001b[0;34m=\u001b[0m \u001b[0mglob\u001b[0m\u001b[0;34m.\u001b[0m\u001b[0mglob\u001b[0m\u001b[0;34m(\u001b[0m\u001b[0;34m'/Users/grahmich/Desktop/Kinematics Paper/Processed Files/*'\u001b[0m\u001b[0;34m)\u001b[0m\u001b[0;34m\u001b[0m\u001b[0;34m\u001b[0m\u001b[0m\n",
      "\u001b[0;31mNameError\u001b[0m: name 'max_spot' is not defined"
     ]
    }
   ],
   "source": [
    "check_trials = [t for i,j,t in zip(max_spot,max_spot1,tn_list) if not i-j==0 ]\n",
    "\n",
    "#12 trials to check\n",
    "plt.style.use('default')\n",
    "pfiles = glob.glob('/Users/grahmich/Desktop/Kinematics Paper/Processed Files/*')\n",
    "pfiles.sort()\n",
    "velocity = [pfiles[i] for i in np.arange(len(pfiles)) if pfiles[i][-12:-4]=='velocity']\n",
    "trials1 = [int(item[-25:-22]) for item in velocity]\n",
    "\n",
    "n = 2\n",
    "m = int(len(check_trials)/n)\n",
    "\n",
    "\n",
    "fig, ax = plt.subplots(m,n,sharey=True)\n",
    "\n",
    "for i in np.arange(m):\n",
    "    for j in np.arange(n):\n",
    "        t = i*n+j\n",
    "        trial = check_trials[t]\n",
    "        ind = trials1.index(trial)\n",
    "\n",
    "        tf = transitions[ind]\n",
    "        pos = np.linalg.norm(np.array(pd.read_csv(velocity[ind],header=None)),axis=1)\n",
    "        ax[i,j].text(0.8, 0.8, velocity[ind][-25:-22], transform=ax[i,j].transAxes, ha=\"right\")\n",
    "        \n",
    "        ax[i,j].plot(pos)\n",
    "        ax[i,j].scatter(np.argmax(pos),max(pos),label='Max Overall')\n",
    "        ax[i,j].scatter(np.argmax(pos[tf:])+tf,max(pos[tf:]),label='Max Lunge')\n",
    "        ax[i,j].scatter(tf,pos[tf],label='Transition')\n",
    "        ax[i,j].axhline(np.max(pos[tf:]))\n",
    "\n",
    "            \n",
    "handles, labels = ax[0,0].get_legend_handles_labels()\n",
    "fig.legend(handles, labels,ncol=3,loc='upper center')"
   ]
  },
  {
   "cell_type": "markdown",
   "metadata": {
    "tags": []
   },
   "source": [
    "## Trajectory Plots"
   ]
  },
  {
   "cell_type": "markdown",
   "metadata": {
    "tags": []
   },
   "source": [
    "### Below can be used for position or velocity in 3 dimensions."
   ]
  },
  {
   "cell_type": "code",
   "execution_count": 32,
   "metadata": {},
   "outputs": [
    {
     "data": {
      "text/plain": [
       "<matplotlib.legend.Legend at 0x15ebacd90>"
      ]
     },
     "execution_count": 32,
     "metadata": {},
     "output_type": "execute_result"
    }
   ],
   "source": [
    "#All head trajectories together\n",
    "pfiles = glob.glob('/Users/Michelle/Desktop/Kinematics Paper/Trajectories/*')\n",
    "pfiles.sort()\n",
    "position = [pfiles[i] for i in np.arange(len(pfiles)) if pfiles[i][-12:-4]=='smoothed']\n",
    "velocity = [pfiles[i] for i in np.arange(len(pfiles)) if pfiles[i][-12:-4]=='velocity']\n",
    "\n",
    "dim = ['X','Y','Z']\n",
    "\n",
    "#118 trials\n",
    "m = 10\n",
    "n = 12\n",
    "\n",
    "fig, ax = plt.subplots(m,n,sharey=True)\n",
    "\n",
    "for i in np.arange(m):\n",
    "    for j in np.arange(n):\n",
    "        t = i*n+j\n",
    "        \n",
    "        if t < len(position):\n",
    "            pos = np.array(pd.read_csv(velocity[t],header=None))\n",
    "            ax[i,j].text(0.8, 0.8, position[t][-25:-22], transform=ax[i,j].transAxes, ha=\"right\")\n",
    "\n",
    "            for d in [0,1,2]:\n",
    "                ax[i,j].plot(pos[:,d],label=dim[d])\n",
    "            \n",
    "handles, labels = ax[0,0].get_legend_handles_labels()\n",
    "fig.legend(handles, labels,ncol=3,loc='upper center')"
   ]
  },
  {
   "cell_type": "markdown",
   "metadata": {
    "tags": []
   },
   "source": [
    "### Below can be used for ploting a X-Z position view of a particular head trajectory"
   ]
  },
  {
   "cell_type": "code",
   "execution_count": 40,
   "metadata": {},
   "outputs": [
    {
     "data": {
      "text/plain": [
       "Text(0, 0.5, 'Z position (m)')"
      ]
     },
     "execution_count": 40,
     "metadata": {},
     "output_type": "execute_result"
    }
   ],
   "source": [
    "# Single graphs: X-Z position view\n",
    "fig, ax = plt.subplots()\n",
    "\n",
    "t=a.index('350a')\n",
    "trial = position[t][-26:-22]\n",
    "ind = tn_list.index(trial)\n",
    "start = ref.loc[ind]['Start Frame']\n",
    "end = ref.loc[ind]['End Frame']\n",
    "trans = ref.loc[ind]['Transition frame']\n",
    "acc = ref.loc[ind]['Acceleration frame']\n",
    "\n",
    "orig = np.array(ref.loc[ind,['orig_x','orig_y','orig_z']])\n",
    "targ = np.array(ref.loc[ind,['targ_x','targ_y','targ_z']])\n",
    "\n",
    "snake = pd.read_csv(position[t],header=None)\n",
    "frames = np.arange(start,end)\n",
    "\n",
    "\n",
    "\n",
    "ax.scatter(snake[0],snake[2],s=4,c='#2ca02c',label='Head Trajectory')\n",
    "ax.scatter(snake[0,trans],snake[2,trans],s=6,label = 'Transition')\n",
    "ax.scatter(snake[0,acc],snake[2,acc],s=6, label = 'Acceleration')\n",
    "ax.scatter(orig[0],orig[2],c='#1f77b4', label='Origin')\n",
    "ax.scatter(targ[0],targ[2],c='#ff7f0e', label='Target')\n",
    "\n",
    "ax.set_aspect('equal', 'box')\n",
    "ax.set_title('Trial '+str(trial))\n",
    "ax.set_xlabel('X position (m)')\n",
    "ax.set_ylabel('Z position (m)')\n",
    "\n",
    "ax.legend()\n",
    "\n",
    "# fig.savefig(trial+'_head_traj.png', transparent=True)"
   ]
  },
  {
   "cell_type": "markdown",
   "metadata": {
    "tags": []
   },
   "source": [
    "#### Make a gif!"
   ]
  },
  {
   "cell_type": "code",
   "execution_count": 93,
   "metadata": {},
   "outputs": [],
   "source": [
    "from matplotlib import animation\n",
    "\n",
    "x = snake[0]\n",
    "z = snake[2]\n",
    "\n",
    "particle = np.vstack((x, z))\n",
    "\n",
    "def update_lines(num, dataLines, lines) :\n",
    "    for line, data in zip(lines, dataLines) :\n",
    "        line.set_data(data[0:2, num-1:num])\n",
    "    return lines\n",
    "\n",
    "\n",
    "fig1, ax1 = plt.subplots()\n",
    "ax1.set_title(trial+\" - head trajectory\")\n",
    "ax1.scatter(orig[0],orig[2])\n",
    "ax1.scatter(targ[0],targ[2])\n",
    "\n",
    "#make animation data\n",
    "data = [particle]\n",
    "lines = [ax1.plot(data[0][0,0:1], data[0][1,0:1], 'o', color = 'k')[0]]\n",
    "m = len(x)\n",
    "\n",
    "\n",
    "# Creating the Animation object\n",
    "ani = animation.FuncAnimation(fig1, update_lines, m, fargs=(data, lines),\n",
    "                              interval=33, blit=False, repeat_delay = 1000)\n",
    "\n",
    "ax1.set_aspect('equal', 'box')\n",
    "ax1.set_ylim(min(z)-0.1,max(z)+0.1)\n",
    "plt.show()"
   ]
  },
  {
   "cell_type": "code",
   "execution_count": 94,
   "metadata": {},
   "outputs": [],
   "source": [
    "f = r\"/Users/grahmich/Desktop/118.mp4\" \n",
    "writervideo = animation.FFMpegWriter(fps=60) \n",
    "ani.save(f, writer=writervideo)"
   ]
  },
  {
   "cell_type": "markdown",
   "metadata": {
    "tags": []
   },
   "source": [
    "# Comparison Graphs"
   ]
  },
  {
   "cell_type": "code",
   "execution_count": 3,
   "metadata": {},
   "outputs": [
    {
     "ename": "NameError",
     "evalue": "name 'cp_df' is not defined",
     "output_type": "error",
     "traceback": [
      "\u001b[0;31m---------------------------------------------------------------------------\u001b[0m",
      "\u001b[0;31mNameError\u001b[0m                                 Traceback (most recent call last)",
      "\u001b[0;32m<ipython-input-3-1a4b6330ec28>\u001b[0m in \u001b[0;36m<module>\u001b[0;34m\u001b[0m\n\u001b[1;32m      2\u001b[0m \u001b[0;34m\u001b[0m\u001b[0m\n\u001b[1;32m      3\u001b[0m \u001b[0;31m#Step 1: create trial list of trials where total < 98.5\u001b[0m\u001b[0;34m\u001b[0m\u001b[0;34m\u001b[0m\u001b[0;34m\u001b[0m\u001b[0m\n\u001b[0;32m----> 4\u001b[0;31m \u001b[0mcp_total_comp\u001b[0m \u001b[0;34m=\u001b[0m \u001b[0mcp_df\u001b[0m\u001b[0;34m[\u001b[0m\u001b[0mcp_df\u001b[0m\u001b[0;34m[\u001b[0m\u001b[0;34m'total'\u001b[0m\u001b[0;34m]\u001b[0m\u001b[0;34m<\u001b[0m\u001b[0;36m98.5\u001b[0m\u001b[0;34m]\u001b[0m\u001b[0;34m\u001b[0m\u001b[0;34m\u001b[0m\u001b[0m\n\u001b[0m\u001b[1;32m      5\u001b[0m \u001b[0mcomp_trials\u001b[0m \u001b[0;34m=\u001b[0m \u001b[0mcp_total_comp\u001b[0m\u001b[0;34m[\u001b[0m\u001b[0;34m'tn'\u001b[0m\u001b[0;34m]\u001b[0m\u001b[0;34m.\u001b[0m\u001b[0mvalues\u001b[0m\u001b[0;34m\u001b[0m\u001b[0;34m\u001b[0m\u001b[0m\n\u001b[1;32m      6\u001b[0m \u001b[0mall_trials\u001b[0m \u001b[0;34m=\u001b[0m \u001b[0;34m[\u001b[0m\u001b[0meach\u001b[0m\u001b[0;34m[\u001b[0m\u001b[0;34m'tn'\u001b[0m\u001b[0;34m]\u001b[0m \u001b[0;32mfor\u001b[0m \u001b[0meach\u001b[0m \u001b[0;32min\u001b[0m \u001b[0mcp_ref\u001b[0m\u001b[0;34m]\u001b[0m\u001b[0;34m\u001b[0m\u001b[0;34m\u001b[0m\u001b[0m\n",
      "\u001b[0;31mNameError\u001b[0m: name 'cp_df' is not defined"
     ]
    }
   ],
   "source": [
    "#Chrysopelea head trajectories\n",
    "\n",
    "#Step 1: create trial list of trials where total < 98.5\n",
    "cp_total_comp = cp_df[cp_df['total']<98.5]\n",
    "comp_trials = cp_total_comp['tn'].values\n",
    "all_trials = [each['tn'] for each in cp_ref]\n",
    "comp_gs = np.around(np.array(cp_total_comp['gsr'].values),1)\n",
    "comp_total = np.around(np.array(cp_total_comp['total'].values),1)\n",
    "\n",
    "#Step 2: graph head trajectory for each of the comp trials\n",
    "\n",
    "for each in comp_trials:\n",
    "    ind = all_trials.index(each)\n",
    "    t = list(comp_trials).index(each)\n",
    "    gsr = comp_gs[t]\n",
    "    total = comp_total[t]\n",
    "    \n",
    "    snake = sm_pos[ind]/1000.0\n",
    "    \n",
    "    # Single graphs: X-Z position view\n",
    "    fig, ax = plt.subplots()\n",
    "    ax.scatter(snake[:,0,0],snake[:,0,2],s=4,c='#2ca02c',label='Head Trajectory')\n",
    "    \n",
    "    ax.set_aspect('equal', 'box')\n",
    "    ax.set_title('Trial '+str(each)+': GS = '+str(gsr)+'% SVL, DT = '+str(total)+' %SVL')\n",
    "    ax.set_xlabel('X position (m)')\n",
    "    ax.set_ylabel('Z position (m)')\n",
    "    \n",
    "    fig.savefig(str(each)+'_cp_head_traj.png', transparent=True)\n",
    "    plt.close()"
   ]
  },
  {
   "cell_type": "markdown",
   "metadata": {
    "tags": []
   },
   "source": [
    "# Looking at all trajectories in GS order"
   ]
  },
  {
   "cell_type": "code",
   "execution_count": 184,
   "metadata": {},
   "outputs": [],
   "source": [
    "gaps_DP = []\n",
    "for ind in np.arange(len(smooth2)):\n",
    "    trial = tn_list[ind]\n",
    "    smoothp = smooth2[ind]\n",
    "    tf = transitions[ind]\n",
    "    \n",
    "    #gap size and SVL\n",
    "    oe1 = origins[ind]\n",
    "    te1 = targets[ind]\n",
    "    svl = ref.loc[ind]['SVL']/100 #cm to m\n",
    "    gsr = np.linalg.norm(te1-oe1)/svl*100\n",
    "    gaps_DP.append(gsr)\n",
    "    \n",
    "gaps_CP = [all_imported[i]['gs_%'] for i in comp_inds]\n",
    "\n",
    "A = sorted(zip(gaps_DP,tn_list))\n",
    "B = sorted(zip(gaps_CP,comp_inds))\n",
    "\n",
    "new_tns_DP = [thing[1] for thing in A]\n",
    "new_inds_CP = [thing[1] for thing in B]"
   ]
  },
  {
   "cell_type": "code",
   "execution_count": 33,
   "metadata": {},
   "outputs": [
    {
     "ename": "NameError",
     "evalue": "name 'new_tns_DP' is not defined",
     "output_type": "error",
     "traceback": [
      "\u001b[0;31m---------------------------------------------------------------------------\u001b[0m",
      "\u001b[0;31mNameError\u001b[0m                                 Traceback (most recent call last)",
      "\u001b[0;32m<ipython-input-33-feea9016f817>\u001b[0m in \u001b[0;36m<module>\u001b[0;34m\u001b[0m\n\u001b[1;32m      8\u001b[0m         \u001b[0mt\u001b[0m \u001b[0;34m=\u001b[0m \u001b[0mi\u001b[0m\u001b[0;34m*\u001b[0m\u001b[0mn\u001b[0m\u001b[0;34m+\u001b[0m\u001b[0mj\u001b[0m\u001b[0;34m\u001b[0m\u001b[0;34m\u001b[0m\u001b[0m\n\u001b[1;32m      9\u001b[0m         \u001b[0;32mif\u001b[0m \u001b[0mt\u001b[0m \u001b[0;34m<\u001b[0m \u001b[0mlen\u001b[0m\u001b[0;34m(\u001b[0m\u001b[0mposition\u001b[0m\u001b[0;34m)\u001b[0m\u001b[0;34m:\u001b[0m\u001b[0;34m\u001b[0m\u001b[0;34m\u001b[0m\u001b[0m\n\u001b[0;32m---> 10\u001b[0;31m             \u001b[0mtrial\u001b[0m \u001b[0;34m=\u001b[0m \u001b[0mnew_tns_DP\u001b[0m\u001b[0;34m[\u001b[0m\u001b[0mt\u001b[0m\u001b[0;34m]\u001b[0m\u001b[0;34m\u001b[0m\u001b[0;34m\u001b[0m\u001b[0m\n\u001b[0m\u001b[1;32m     11\u001b[0m             \u001b[0mind\u001b[0m \u001b[0;34m=\u001b[0m \u001b[0mtn_list\u001b[0m\u001b[0;34m.\u001b[0m\u001b[0mindex\u001b[0m\u001b[0;34m(\u001b[0m\u001b[0mtrial\u001b[0m\u001b[0;34m)\u001b[0m\u001b[0;34m\u001b[0m\u001b[0;34m\u001b[0m\u001b[0m\n\u001b[1;32m     12\u001b[0m \u001b[0;34m\u001b[0m\u001b[0m\n",
      "\u001b[0;31mNameError\u001b[0m: name 'new_tns_DP' is not defined"
     ]
    }
   ],
   "source": [
    "m = 10\n",
    "n = 12\n",
    "\n",
    "fig, ax = plt.subplots(m,n)\n",
    "\n",
    "for i in np.arange(m):\n",
    "    for j in np.arange(n):\n",
    "        t = i*n+j\n",
    "        if t < len(position):\n",
    "            trial = new_tns_DP[t]\n",
    "            ind = tn_list.index(trial)\n",
    "\n",
    "            tf = transitions[ind]        \n",
    "            pos = smooth1[ind]\n",
    "\n",
    "            lp,hp = CP_Points(pos, tf)\n",
    "            lp1,hp1 = DP_Points(pos, tf)\n",
    "\n",
    "            ax[i,j].text(0.8, 0.8, tn_list[ind], transform=ax[i,j].transAxes, ha=\"right\")\n",
    "\n",
    "            ax[i,j].scatter(pos[:,0],pos[:,2],s=3)\n",
    "\n",
    "            ax[i,j].axes.xaxis.set_visible(False)\n",
    "            ax[i,j].axes.yaxis.set_visible(False)\n",
    "            ax[i,j].set_aspect('equal')\n",
    "            ax[i,j].set_ylim(min(pos[:,2])-0.1, max(pos[:,2])+0.1)\n",
    "\n",
    "fig.suptitle('Dendrelaphis - Head Trajectories - Increasing Gap Size')\n",
    "\n",
    "m = 10\n",
    "n = 9\n",
    "\n",
    "fig, ax = plt.subplots(m,n)\n",
    "\n",
    "for i in np.arange(m):\n",
    "    for j in np.arange(n):\n",
    "        t = i*n+j\n",
    "        ind = new_inds_CP[t]\n",
    "        \n",
    "        pos = sm_pos[ind][:,0,:] #head only\n",
    "        frames = list(all_imported[ind]['fn'])\n",
    "        dp = all_imported[ind]['dp']\n",
    "        dpi = frames.index(int(dp))\n",
    "        lp, hp = CP_Points(pos,dpi)\n",
    "        lp1, hp1 = DP_Points(pos,dpi)\n",
    "\n",
    "        \n",
    "        ax[i,j].text(0.8, 0.8, all_imported[ind]['tn'], transform=ax[i,j].transAxes, ha=\"right\")\n",
    "\n",
    "        ax[i,j].scatter(pos[:,0],pos[:,2],s=3)\n",
    "     \n",
    "\n",
    "        ax[i,j].axes.xaxis.set_visible(False)\n",
    "        ax[i,j].axes.yaxis.set_visible(False)\n",
    "        ax[i,j].set_aspect('equal')\n",
    "        ax[i,j].set_ylim(min(pos[:,2])-100, max(pos[:,2])+100)\n",
    "\n",
    "fig.suptitle('Chrysopelea - Head Trajectories - Increasing Gap Size')\n"
   ]
  },
  {
   "cell_type": "markdown",
   "metadata": {},
   "source": [
    "## Misc. Checks with processed trials"
   ]
  },
  {
   "cell_type": "markdown",
   "metadata": {},
   "source": [
    "### Gap marker position "
   ]
  },
  {
   "cell_type": "code",
   "execution_count": 109,
   "metadata": {},
   "outputs": [
    {
     "data": {
      "text/plain": [
       "<matplotlib.legend.Legend at 0x1645f3d30>"
      ]
     },
     "execution_count": 109,
     "metadata": {},
     "output_type": "execute_result"
    }
   ],
   "source": [
    "# origin should be close to head position at frame 0 except for a few trials. \n",
    "\n",
    "#110 trials\n",
    "m = 10\n",
    "n = 11\n",
    "\n",
    "fig, ax = plt.subplots(m,n)\n",
    "\n",
    "for i in np.arange(m):\n",
    "    for j in np.arange(n):\n",
    "        t = i*n+j\n",
    "        trial = int(tns[t])\n",
    "        ind = tn_list.index(trial)\n",
    "\n",
    "        origin = np.array([ref['orig_x'][ind],ref['orig_y'][ind],ref['orig_z'][ind]])\n",
    "        target = np.array([ref['targ_x'][ind],ref['targ_y'][ind],ref['targ_z'][ind]])\n",
    "        \n",
    "        ax[i,j].scatter(origin[0],origin[2],label='origin')\n",
    "        ax[i,j].scatter(target[0],target[2],label='target')\n",
    "        ax[i,j].scatter(pos[t][:,0],pos[t][:,2],s=2,label='head')\n",
    "        ax[i,j].scatter(pos[t][0,0],pos[t][0,2],s=3,label='start')\n",
    "        \n",
    "        ax[i,j].text(0.8, 0.8, trial, transform=ax[i,j].transAxes, ha=\"right\")\n",
    "        \n",
    "        ax[i,j].set_ylim(-0.5,0.5)\n",
    "        ax[i,j].set_xlim(origin[0]-0.1,target[0]+0.1)\n",
    "        \n",
    "        \n",
    "        ax[i,j].axes.xaxis.set_visible(False)\n",
    "        ax[i,j].axes.yaxis.set_visible(False)\n",
    "\n",
    "        \n",
    "handles, labels = ax[0,0].get_legend_handles_labels()\n",
    "fig.legend(handles, labels,ncol=4,loc='upper center')"
   ]
  },
  {
   "cell_type": "markdown",
   "metadata": {},
   "source": [
    "### Gap Distance Error Calculations"
   ]
  },
  {
   "cell_type": "code",
   "execution_count": 39,
   "metadata": {},
   "outputs": [],
   "source": [
    "#gap size stuff\n",
    "df = pd.read_csv('new_reference88.csv')"
   ]
  },
  {
   "cell_type": "code",
   "execution_count": 111,
   "metadata": {},
   "outputs": [
    {
     "data": {
      "text/html": [
       "<div>\n",
       "<style scoped>\n",
       "    .dataframe tbody tr th:only-of-type {\n",
       "        vertical-align: middle;\n",
       "    }\n",
       "\n",
       "    .dataframe tbody tr th {\n",
       "        vertical-align: top;\n",
       "    }\n",
       "\n",
       "    .dataframe thead th {\n",
       "        text-align: right;\n",
       "    }\n",
       "</style>\n",
       "<table border=\"1\" class=\"dataframe\">\n",
       "  <thead>\n",
       "    <tr style=\"text-align: right;\">\n",
       "      <th></th>\n",
       "      <th>Trial</th>\n",
       "      <th>Snake</th>\n",
       "      <th>SVL</th>\n",
       "      <th>Mass</th>\n",
       "      <th>Start frame</th>\n",
       "      <th>Transition frame</th>\n",
       "      <th>Acceleration frame</th>\n",
       "      <th>End frame</th>\n",
       "      <th>Reference frame</th>\n",
       "      <th>att_gs</th>\n",
       "      <th>...</th>\n",
       "      <th>orig_z</th>\n",
       "      <th>targ_z</th>\n",
       "      <th>gsm</th>\n",
       "      <th>gsr</th>\n",
       "      <th>lands</th>\n",
       "      <th>maxs</th>\n",
       "      <th>avgs</th>\n",
       "      <th>relmax</th>\n",
       "      <th>relland</th>\n",
       "      <th>relavg</th>\n",
       "    </tr>\n",
       "  </thead>\n",
       "  <tbody>\n",
       "    <tr>\n",
       "      <th>0</th>\n",
       "      <td>52</td>\n",
       "      <td>2018DP03</td>\n",
       "      <td>88.97</td>\n",
       "      <td>84.8</td>\n",
       "      <td>1932</td>\n",
       "      <td>3770</td>\n",
       "      <td>3788</td>\n",
       "      <td>3803</td>\n",
       "      <td>1900</td>\n",
       "      <td>43.0</td>\n",
       "      <td>...</td>\n",
       "      <td>0.228186</td>\n",
       "      <td>0.240296</td>\n",
       "      <td>0.424761</td>\n",
       "      <td>47.742017</td>\n",
       "      <td>0.408433</td>\n",
       "      <td>0.408433</td>\n",
       "      <td>0.113740</td>\n",
       "      <td>0.456350</td>\n",
       "      <td>0.456350</td>\n",
       "      <td>0.127084</td>\n",
       "    </tr>\n",
       "    <tr>\n",
       "      <th>1</th>\n",
       "      <td>56</td>\n",
       "      <td>2018DP03</td>\n",
       "      <td>88.97</td>\n",
       "      <td>84.8</td>\n",
       "      <td>7460</td>\n",
       "      <td>7470</td>\n",
       "      <td>7586</td>\n",
       "      <td>7606</td>\n",
       "      <td>4500</td>\n",
       "      <td>47.0</td>\n",
       "      <td>...</td>\n",
       "      <td>0.229285</td>\n",
       "      <td>0.237304</td>\n",
       "      <td>0.463046</td>\n",
       "      <td>52.045218</td>\n",
       "      <td>1.529387</td>\n",
       "      <td>1.529387</td>\n",
       "      <td>0.285720</td>\n",
       "      <td>1.708812</td>\n",
       "      <td>1.708812</td>\n",
       "      <td>0.319241</td>\n",
       "    </tr>\n",
       "    <tr>\n",
       "      <th>2</th>\n",
       "      <td>57</td>\n",
       "      <td>2018DP03</td>\n",
       "      <td>88.97</td>\n",
       "      <td>84.8</td>\n",
       "      <td>10988</td>\n",
       "      <td>11590</td>\n",
       "      <td>11615</td>\n",
       "      <td>11630</td>\n",
       "      <td>10980</td>\n",
       "      <td>45.0</td>\n",
       "      <td>...</td>\n",
       "      <td>0.230633</td>\n",
       "      <td>0.230700</td>\n",
       "      <td>0.443930</td>\n",
       "      <td>49.896627</td>\n",
       "      <td>0.710615</td>\n",
       "      <td>0.711053</td>\n",
       "      <td>0.127405</td>\n",
       "      <td>0.794473</td>\n",
       "      <td>0.793983</td>\n",
       "      <td>0.142352</td>\n",
       "    </tr>\n",
       "    <tr>\n",
       "      <th>3</th>\n",
       "      <td>59</td>\n",
       "      <td>2018DP03</td>\n",
       "      <td>88.97</td>\n",
       "      <td>84.8</td>\n",
       "      <td>2532</td>\n",
       "      <td>2930</td>\n",
       "      <td>2947</td>\n",
       "      <td>2957</td>\n",
       "      <td>2500</td>\n",
       "      <td>41.0</td>\n",
       "      <td>...</td>\n",
       "      <td>0.232787</td>\n",
       "      <td>0.216667</td>\n",
       "      <td>0.404141</td>\n",
       "      <td>45.424417</td>\n",
       "      <td>0.479467</td>\n",
       "      <td>0.479467</td>\n",
       "      <td>0.171952</td>\n",
       "      <td>0.535717</td>\n",
       "      <td>0.535717</td>\n",
       "      <td>0.192126</td>\n",
       "    </tr>\n",
       "    <tr>\n",
       "      <th>4</th>\n",
       "      <td>60</td>\n",
       "      <td>2018DP03</td>\n",
       "      <td>88.97</td>\n",
       "      <td>84.8</td>\n",
       "      <td>2659</td>\n",
       "      <td>3557</td>\n",
       "      <td>3570</td>\n",
       "      <td>3607</td>\n",
       "      <td>2500</td>\n",
       "      <td>42.0</td>\n",
       "      <td>...</td>\n",
       "      <td>0.230973</td>\n",
       "      <td>0.227726</td>\n",
       "      <td>0.417813</td>\n",
       "      <td>46.961084</td>\n",
       "      <td>1.269342</td>\n",
       "      <td>1.442358</td>\n",
       "      <td>0.143308</td>\n",
       "      <td>1.611573</td>\n",
       "      <td>1.418259</td>\n",
       "      <td>0.160121</td>\n",
       "    </tr>\n",
       "  </tbody>\n",
       "</table>\n",
       "<p>5 rows × 30 columns</p>\n",
       "</div>"
      ],
      "text/plain": [
       "   Trial     Snake    SVL  Mass  Start frame  Transition frame  \\\n",
       "0     52  2018DP03  88.97  84.8         1932              3770   \n",
       "1     56  2018DP03  88.97  84.8         7460              7470   \n",
       "2     57  2018DP03  88.97  84.8        10988             11590   \n",
       "3     59  2018DP03  88.97  84.8         2532              2930   \n",
       "4     60  2018DP03  88.97  84.8         2659              3557   \n",
       "\n",
       "   Acceleration frame  End frame  Reference frame  att_gs  ...    orig_z  \\\n",
       "0                3788       3803             1900    43.0  ...  0.228186   \n",
       "1                7586       7606             4500    47.0  ...  0.229285   \n",
       "2               11615      11630            10980    45.0  ...  0.230633   \n",
       "3                2947       2957             2500    41.0  ...  0.232787   \n",
       "4                3570       3607             2500    42.0  ...  0.230973   \n",
       "\n",
       "     targ_z       gsm        gsr     lands      maxs      avgs    relmax  \\\n",
       "0  0.240296  0.424761  47.742017  0.408433  0.408433  0.113740  0.456350   \n",
       "1  0.237304  0.463046  52.045218  1.529387  1.529387  0.285720  1.708812   \n",
       "2  0.230700  0.443930  49.896627  0.710615  0.711053  0.127405  0.794473   \n",
       "3  0.216667  0.404141  45.424417  0.479467  0.479467  0.171952  0.535717   \n",
       "4  0.227726  0.417813  46.961084  1.269342  1.442358  0.143308  1.611573   \n",
       "\n",
       "    relland    relavg  \n",
       "0  0.456350  0.127084  \n",
       "1  1.708812  0.319241  \n",
       "2  0.793983  0.142352  \n",
       "3  0.535717  0.192126  \n",
       "4  1.418259  0.160121  \n",
       "\n",
       "[5 rows x 30 columns]"
      ]
     },
     "execution_count": 111,
     "metadata": {},
     "output_type": "execute_result"
    }
   ],
   "source": [
    "df.head()"
   ]
  },
  {
   "cell_type": "code",
   "execution_count": 115,
   "metadata": {},
   "outputs": [],
   "source": [
    "diff_x = []\n",
    "diff_z = []\n",
    "diff_gs= []\n",
    "\n",
    "gs = []\n",
    "\n",
    "for i in np.arange(len(df)):\n",
    "    targ = df.iloc[i][['targ_x','targ_y','targ_z']]\n",
    "    orig = df.iloc[i][['orig_x','orig_y','orig_z']]\n",
    "    \n",
    "    diffs = [abs(targ[t]-orig[t]) for t in [0,1,2]]\n",
    "    \n",
    "    if np.isnan(df.iloc[i]['att_gs']):\n",
    "        d = np.nan\n",
    "    \n",
    "    else:\n",
    "        d = abs(df.iloc[i]['gsm']-df.iloc[i]['att_gs']/100.0)\n",
    "        \n",
    "    diff_x.append(abs(diffs[0]-df.iloc[i]['att_gs']/100.0))\n",
    "    diff_z.append(diffs[2])\n",
    "    diff_gs.append(d)\n",
    "    gs.append(df.iloc[i]['gsm'])"
   ]
  },
  {
   "cell_type": "code",
   "execution_count": 116,
   "metadata": {},
   "outputs": [],
   "source": [
    "plt.plot(diff_x,'o', label=\"X difference\")\n",
    "plt.plot(diff_z,'o', label = \"Z difference\")\n",
    "plt.plot(diff_gs,'o', label = \"Total difference\")\n",
    "\n",
    "place = np.arange(len(gs))\n",
    "n = [df.iloc[i]['Trial'] for i in place]\n",
    "\n",
    "plt.legend()\n",
    "plt.title(\"Difference between actual and intended gap sizes (m)\")\n",
    "\n",
    "for i, txt in enumerate(n):\n",
    "\n",
    "    plt.annotate(txt, (place[i], diff_gs[i]))"
   ]
  },
  {
   "cell_type": "code",
   "execution_count": 48,
   "metadata": {},
   "outputs": [
    {
     "data": {
      "text/plain": [
       "<matplotlib.lines.Line2D at 0x161a04e50>"
      ]
     },
     "execution_count": 48,
     "metadata": {},
     "output_type": "execute_result"
    }
   ],
   "source": [
    "plt.axhline(0.04)\n",
    "plt.axhline(-0.04)"
   ]
  },
  {
   "cell_type": "code",
   "execution_count": 118,
   "metadata": {},
   "outputs": [],
   "source": [
    "#calculate percent errors\n",
    "p_x = [abs(diff_x[i]/gs[i]*100) for i in np.arange(len(gs))]\n",
    "p_z = [abs(diff_z[i]/gs[i]*100) for i in np.arange(len(gs))]\n",
    "p_g = [abs(diff_gs[i]/gs[i]*100) for i in np.arange(len(gs))]\n",
    "\n",
    "plt.figure()\n",
    "plt.plot(p_x,'o', label=\"X difference\")\n",
    "plt.plot(p_z,'o', label = \"Z difference\")\n",
    "plt.plot(p_g,'o', label = \"Total difference\")\n",
    "\n",
    "plt.legend()\n",
    "plt.title(\"% error between actual and intended gap sizes (m)\")\n",
    "\n",
    "for i, txt in enumerate(n):\n",
    "\n",
    "    plt.annotate(txt, (place[i], p_x[i]))"
   ]
  },
  {
   "cell_type": "code",
   "execution_count": 119,
   "metadata": {
    "scrolled": true
   },
   "outputs": [
    {
     "data": {
      "text/plain": [
       "<matplotlib.lines.Line2D at 0x166466a90>"
      ]
     },
     "execution_count": 119,
     "metadata": {},
     "output_type": "execute_result"
    }
   ],
   "source": [
    "plt.axhline(10)"
   ]
  },
  {
   "cell_type": "code",
   "execution_count": 120,
   "metadata": {},
   "outputs": [
    {
     "name": "stdout",
     "output_type": "stream",
     "text": [
      "[3.345705359704625, 2.550528288527782, 3.327544596880871]\n",
      "[0.01281484588901367, 0.010594706714889298, 0.012745535751270534]\n"
     ]
    }
   ],
   "source": [
    "L = [np.nanmean(thing) for thing in [p_x,p_z,p_g]]\n",
    "L1 = [np.nanmean(thing) for thing in [diff_x,diff_z,diff_gs]]\n",
    "print(L)\n",
    "print(L1)"
   ]
  },
  {
   "cell_type": "markdown",
   "metadata": {},
   "source": [
    "### Testing different smoothing parameters"
   ]
  },
  {
   "cell_type": "code",
   "execution_count": 29,
   "metadata": {},
   "outputs": [],
   "source": [
    "#what auto-pvals are being generated?\n",
    "\n",
    "all_pvals = []\n",
    "\n",
    "for i in np.arange(len(Files)):\n",
    "    \n",
    "    ID = Files[i][-19:-11] #read in as a string.\n",
    "    trial = Files[i][-24:-20] #read in as a string.\n",
    "    data = pd.read_csv(Files[i])\n",
    "    \n",
    "    ind = tn_list.index(trial)\n",
    "    svl = ref.loc[ind]['SVL(cm)']/100 #cm to m\n",
    "    \n",
    "    start = ref.loc[ind]['Start Frame']\n",
    "    end = ref.loc[ind]['End Frame']\n",
    "    frame = ref.loc[ind]['Reference frame']\n",
    "    \n",
    "   \n",
    "    #pull out relevant points: gravity, origin and target ends. \n",
    "    ghigh = data.columns[-3:]    \n",
    "    glow = data.columns[-6:-3]\n",
    "    \n",
    "    g1 = data[glow].loc[frame-1].values\n",
    "    g2 = data[ghigh].loc[frame-1].values\n",
    "    grav = g1-g2\n",
    "    gnorm = grav/np.linalg.norm(grav)\n",
    "    \n",
    "    OE = np.array(data.loc[[frame-1],['pt2_X','pt2_Y','pt2_Z']])\n",
    "    TE = np.array(data.loc[[frame-1],['pt3_X','pt3_Y','pt3_Z']])\n",
    "    \n",
    "    \n",
    "    #nan check #1\n",
    "    if np.isnan(np.sum(g2)):\n",
    "        print(str(trial)+\": ghigh has nans\")\n",
    "        continue\n",
    "        \n",
    "    #nan check # 2\n",
    "    if np.isnan(np.sum(g1)):\n",
    "        print(str(trial)+\": glow has nans\")\n",
    "        continue\n",
    "    \n",
    "    #nan check 3\n",
    "    if np.isnan(np.sum(OE)):\n",
    "        print(str(trial)+\": OE has nans\")\n",
    "        continue\n",
    "        \n",
    "    #nan check 4\n",
    "    if np.isnan(np.sum(TE)):\n",
    "        print(str(trial)+\": glow has nans\")\n",
    "        continue \n",
    "        \n",
    "    OE = OE.reshape(1,3)\n",
    "    TE = TE.reshape(1,3)\n",
    "    g1 = g1.reshape(1,3)\n",
    "    g2 = g2.reshape(1,3)\n",
    "\n",
    "    \n",
    "    #crop head data to area of interest, between gap entry and landing.\n",
    "    head_traj = np.array(data[['pt1_X','pt1_Y','pt1_Z']])\n",
    "    head_traj = head_traj[start:end,:]\n",
    "    \n",
    "    #nan check 5\n",
    "    if np.isnan(np.sum(head_traj)):\n",
    "        print(str(trial)+\": head_traj has nans\")\n",
    "        continue\n",
    "    \n",
    "    #align coordinates\n",
    "    oe1 = fix_coords(OE,OE,TE,gnorm)\n",
    "    te1 = fix_coords(TE,OE,TE,gnorm)\n",
    "    g1a = fix_coords(g1,OE,TE,gnorm)\n",
    "    g2a = fix_coords(g2,OE,TE,gnorm)\n",
    "\n",
    "    \n",
    "    head1 = fix_coords(head_traj,OE,TE,gnorm)\n",
    "    \n",
    "    #create smoothed trajectories\n",
    "    smoothp = np.empty(np.shape(head1))\n",
    "    fr = 120\n",
    "    t = [each/fr for each in np.arange(np.shape(head1)[0])]\n",
    "\n",
    "    pfs = []\n",
    "    for d in [0,1,2]:\n",
    "        x = head1[:,d]\n",
    "        GCV = GCVSmoothedNSpline(t, x) #p chosen by program; check it is a good value.\n",
    "        x_smoothed = GCV(t)\n",
    "        smoothp[:,d] = x_smoothed\n",
    "        pfs.append(GCV.p)\n",
    "        \n",
    "    all_pvals.append(pfs)\n",
    "    \n",
    "flatt = [item for sublist in all_pvals for item in sublist]\n",
    "max(flatt),min(flatt),np.mean(flatt)"
   ]
  },
  {
   "cell_type": "code",
   "execution_count": null,
   "metadata": {},
   "outputs": [],
   "source": []
  }
 ],
 "metadata": {
  "kernelspec": {
   "display_name": "Python 3",
   "language": "python",
   "name": "python3"
  },
  "language_info": {
   "codemirror_mode": {
    "name": "ipython",
    "version": 3
   },
   "file_extension": ".py",
   "mimetype": "text/x-python",
   "name": "python",
   "nbconvert_exporter": "python",
   "pygments_lexer": "ipython3",
   "version": "3.7.4"
  }
 },
 "nbformat": 4,
 "nbformat_minor": 4
}
